{
 "cells": [
  {
   "cell_type": "code",
   "execution_count": 1,
   "id": "permanent-indiana",
   "metadata": {},
   "outputs": [
    {
     "data": {
      "text/html": [
       "<style>.container { width:100% !important; }</style>"
      ],
      "text/plain": [
       "<IPython.core.display.HTML object>"
      ]
     },
     "metadata": {},
     "output_type": "display_data"
    }
   ],
   "source": [
    "import pandas as pd\n",
    "\n",
    "# to display all the columns of the dataframe in the notebook\n",
    "pd.pandas.set_option('display.max_columns', None)\n",
    "\n",
    "# to make notebook wider for screen\n",
    "from IPython.core.display import display, HTML\n",
    "display(HTML(\"<style>.container { width:100% !important; }</style>\"))"
   ]
  },
  {
   "cell_type": "markdown",
   "id": "veterinary-enterprise",
   "metadata": {},
   "source": [
    "# Modelo Iniciacion"
   ]
  },
  {
   "cell_type": "markdown",
   "id": "waiting-assignment",
   "metadata": {},
   "source": [
    "## Pipeline to deploy with multi core vCPU capabilities"
   ]
  },
  {
   "cell_type": "markdown",
   "id": "constant-burning",
   "metadata": {},
   "source": [
    "### For debugging or running complete pipeline"
   ]
  },
  {
   "cell_type": "markdown",
   "id": "fuzzy-cycling",
   "metadata": {},
   "source": [
    "#### Train Model"
   ]
  },
  {
   "cell_type": "code",
   "execution_count": 1,
   "id": "incoming-event",
   "metadata": {},
   "outputs": [],
   "source": [
    "from randomForest_classifier.train_pipeline import run_training"
   ]
  },
  {
   "cell_type": "code",
   "execution_count": 2,
   "id": "homeless-child",
   "metadata": {
    "scrolled": false
   },
   "outputs": [
    {
     "name": "stdout",
     "output_type": "stream",
     "text": [
      "(50353, 69) (5595, 69)\n",
      "2021-04-06 22:12:54,309 — randomForest_classifier.processing.preprocessors — DEBUG —transform:88 — DictionaryImputer Time: 0.027321577072143555\n",
      "2021-04-06 22:12:54,356 — randomForest_classifier.processing.preprocessors — DEBUG —transform:34 — CategoricalImputer Time: 0.04573941230773926\n",
      "2021-04-06 22:12:54,378 — randomForest_classifier.processing.preprocessors — DEBUG —transform:60 — NumericalImputer Time: 0.011307477951049805\n",
      "2021-04-06 22:12:54,438 — randomForest_classifier.processing.preprocessors — DEBUG —transform:141 — YearsVariableEstimator Time: 0.05582118034362793\n",
      "2021-04-06 22:12:54,820 — randomForest_classifier.processing.preprocessors — DEBUG —transform:175 — RareLabelCategoricalEncoder Time: 0.12581610679626465\n",
      "2021-04-06 22:12:55,493 — randomForest_classifier.processing.preprocessors — DEBUG —transform:218 — CategoricalEncoder Time: 0.434650182723999\n",
      "(50353, 69)\n",
      "2021-04-06 22:12:55,515 — randomForest_classifier.processing.preprocessors — DEBUG —transform:235 — DropUnecessaryFeatures Time: 0.011853218078613281\n",
      "2021-04-06 22:12:55,585 — randomForest_classifier.processing.preprocessors — DEBUG —transform:88 — DictionaryImputer Time: 0.025641202926635742\n",
      "2021-04-06 22:12:55,630 — randomForest_classifier.processing.preprocessors — DEBUG —transform:34 — CategoricalImputer Time: 0.0436403751373291\n",
      "2021-04-06 22:12:55,652 — randomForest_classifier.processing.preprocessors — DEBUG —transform:60 — NumericalImputer Time: 0.010253667831420898\n",
      "2021-04-06 22:12:55,706 — randomForest_classifier.processing.preprocessors — DEBUG —transform:141 — YearsVariableEstimator Time: 0.05009865760803223\n",
      "2021-04-06 22:12:56,084 — randomForest_classifier.processing.preprocessors — DEBUG —transform:175 — RareLabelCategoricalEncoder Time: 0.12520790100097656\n",
      "2021-04-06 22:12:56,753 — randomForest_classifier.processing.preprocessors — DEBUG —transform:218 — CategoricalEncoder Time: 0.4319729804992676\n",
      "(50353, 69)\n",
      "2021-04-06 22:12:56,775 — randomForest_classifier.processing.preprocessors — DEBUG —transform:235 — DropUnecessaryFeatures Time: 0.011588096618652344\n",
      "XT (50353, 68)\n",
      "2021-04-06 22:12:56,830 — randomForest_classifier.train_pipeline — INFO —run_training:57 — saving model version: 0.0.2\n",
      "2021-04-06 22:12:56,837 — randomForest_classifier.processing.data_management — INFO —save_pipeline:38 — saved pipeline: randomForest_classifier0.0.2.pkl\n",
      "CPU times: user 5.39 s, sys: 240 ms, total: 5.63 s\n",
      "Wall time: 5.62 s\n"
     ]
    }
   ],
   "source": [
    "%%time\n",
    "# this function runs run_training from the pipeline to deploy\n",
    "# for debugging, modify file: __init__.py  and set level of debugging to debug: logger.setLevel(logging.DEBUG)\n",
    "# if model has been trained previously, it won't fit the feature generation iteractions, instead it will retrieve it from trained model\n",
    "# delete .pkl in order to retrain, or change VERSION number\n",
    "\n",
    "if(True):\n",
    "    run_training()"
   ]
  },
  {
   "cell_type": "markdown",
   "id": "encouraging-package",
   "metadata": {},
   "source": [
    "#### Test"
   ]
  },
  {
   "cell_type": "code",
   "execution_count": 3,
   "id": "laden-diagram",
   "metadata": {},
   "outputs": [],
   "source": [
    "from randomForest_classifier.predict import make_transform\n",
    "from randomForest_classifier.processing.data_management import load_dataset\n",
    "import pandas as pd"
   ]
  },
  {
   "cell_type": "code",
   "execution_count": 13,
   "id": "starting-bidder",
   "metadata": {},
   "outputs": [],
   "source": [
    "def test_make_single_prediction():\n",
    "    # Given\n",
    "    test_data = load_dataset(file_name='test.csv')\n",
    "    single_test_input = test_data[0:1]\n",
    "\n",
    "    # When\n",
    "    subject = make_transform(input_data=single_test_input)\n",
    "    #subject['transform'] = pd.DataFrame(subject['transform'], columns = test_data.columns.to_list())\n",
    "\n",
    "    return subject\n",
    "\n",
    "def test_make_multiple_predictions():\n",
    "    # Given\n",
    "    test_data = load_dataset(file_name='dataset.csv')\n",
    "    original_data_length = len(test_data)\n",
    "    multiple_test_input = test_data.copy()\n",
    "\n",
    "    # When\n",
    "    subject = make_transform(input_data=multiple_test_input)\n",
    "    #subject['transform'] = pd.DataFrame(subject['transform'], columns = test_data.columns.to_list())\n",
    "\n",
    "    return subject\n"
   ]
  },
  {
   "cell_type": "code",
   "execution_count": 14,
   "id": "otherwise-possibility",
   "metadata": {},
   "outputs": [
    {
     "name": "stdout",
     "output_type": "stream",
     "text": [
      "2021-04-06 22:14:23,213 — randomForest_classifier.processing.preprocessors — DEBUG —transform:88 — DictionaryImputer Time: 0.0016024112701416016\n",
      "2021-04-06 22:14:23,218 — randomForest_classifier.processing.preprocessors — DEBUG —transform:34 — CategoricalImputer Time: 0.003817319869995117\n",
      "2021-04-06 22:14:23,221 — randomForest_classifier.processing.preprocessors — DEBUG —transform:60 — NumericalImputer Time: 0.0020029544830322266\n",
      "2021-04-06 22:14:23,224 — randomForest_classifier.processing.preprocessors — DEBUG —transform:141 — YearsVariableEstimator Time: 0.003118276596069336\n",
      "2021-04-06 22:14:23,243 — randomForest_classifier.processing.preprocessors — DEBUG —transform:175 — RareLabelCategoricalEncoder Time: 0.018296480178833008\n",
      "2021-04-06 22:14:23,296 — randomForest_classifier.processing.preprocessors — DEBUG —transform:218 — CategoricalEncoder Time: 0.05178046226501465\n",
      "(1, 69)\n",
      "2021-04-06 22:14:23,300 — randomForest_classifier.processing.preprocessors — DEBUG —transform:235 — DropUnecessaryFeatures Time: 0.0009424686431884766\n",
      "2021-04-06 22:14:23,303 — randomForest_classifier.processing.preprocessors — DEBUG —transform:253 — MyMinMaxScaler Time: 0.0026845932006835938\n",
      "2021-04-06 22:14:23,304 — randomForest_classifier.predict — INFO —make_transform:79 — Making predictions with model version: 0.0.2 \n"
     ]
    }
   ],
   "source": [
    "t = test_make_single_prediction()"
   ]
  },
  {
   "cell_type": "code",
   "execution_count": 15,
   "id": "comic-lending",
   "metadata": {},
   "outputs": [
    {
     "data": {
      "text/html": [
       "<div>\n",
       "<style scoped>\n",
       "    .dataframe tbody tr th:only-of-type {\n",
       "        vertical-align: middle;\n",
       "    }\n",
       "\n",
       "    .dataframe tbody tr th {\n",
       "        vertical-align: top;\n",
       "    }\n",
       "\n",
       "    .dataframe thead th {\n",
       "        text-align: right;\n",
       "    }\n",
       "</style>\n",
       "<table border=\"1\" class=\"dataframe\">\n",
       "  <thead>\n",
       "    <tr style=\"text-align: right;\">\n",
       "      <th></th>\n",
       "      <th>numero_cuotas</th>\n",
       "      <th>cl_unq_act_act_messolicitud</th>\n",
       "      <th>cl_unq_act_act_trimestresolicitud</th>\n",
       "      <th>cl_unq_act_act_fechasolicitud_date</th>\n",
       "      <th>cl_unq_act_act_monto</th>\n",
       "      <th>...</th>\n",
       "      <th>cl_unq_act_act_flagtienesecadora</th>\n",
       "      <th>cl_unq_act_act_flagtienehorno</th>\n",
       "      <th>cl_unq_act_act_flagtienemicroondas</th>\n",
       "      <th>cl_unq_act_act_flagtienestereo</th>\n",
       "      <th>cl_unq_act_act_fnacimiento_date</th>\n",
       "    </tr>\n",
       "  </thead>\n",
       "  <tbody>\n",
       "    <tr>\n",
       "      <th>0</th>\n",
       "      <td>0.176471</td>\n",
       "      <td>0.181818</td>\n",
       "      <td>0.0</td>\n",
       "      <td>1.0</td>\n",
       "      <td>0.121038</td>\n",
       "      <td>...</td>\n",
       "      <td>0.5</td>\n",
       "      <td>1.0</td>\n",
       "      <td>1.0</td>\n",
       "      <td>1.0</td>\n",
       "      <td>0.0</td>\n",
       "    </tr>\n",
       "  </tbody>\n",
       "</table>\n",
       "<p>1 rows × 68 columns</p>\n",
       "</div>"
      ],
      "text/plain": [
       "   numero_cuotas  cl_unq_act_act_messolicitud  \\\n",
       "0       0.176471                     0.181818   \n",
       "\n",
       "   cl_unq_act_act_trimestresolicitud  cl_unq_act_act_fechasolicitud_date  \\\n",
       "0                                0.0                                 1.0   \n",
       "\n",
       "   cl_unq_act_act_monto  ...  cl_unq_act_act_flagtienesecadora  \\\n",
       "0              0.121038  ...                               0.5   \n",
       "\n",
       "   cl_unq_act_act_flagtienehorno  cl_unq_act_act_flagtienemicroondas  \\\n",
       "0                            1.0                                 1.0   \n",
       "\n",
       "   cl_unq_act_act_flagtienestereo  cl_unq_act_act_fnacimiento_date  \n",
       "0                             1.0                              0.0  \n",
       "\n",
       "[1 rows x 68 columns]"
      ]
     },
     "execution_count": 15,
     "metadata": {},
     "output_type": "execute_result"
    }
   ],
   "source": [
    "t['transform']"
   ]
  },
  {
   "cell_type": "code",
   "execution_count": 16,
   "id": "integral-azerbaijan",
   "metadata": {},
   "outputs": [
    {
     "name": "stdout",
     "output_type": "stream",
     "text": [
      "2021-04-06 22:14:27,082 — randomForest_classifier.processing.preprocessors — DEBUG —transform:88 — DictionaryImputer Time: 0.029584169387817383\n",
      "2021-04-06 22:14:27,134 — randomForest_classifier.processing.preprocessors — DEBUG —transform:34 — CategoricalImputer Time: 0.05198955535888672\n",
      "2021-04-06 22:14:27,153 — randomForest_classifier.processing.preprocessors — DEBUG —transform:60 — NumericalImputer Time: 0.012096405029296875\n",
      "2021-04-06 22:14:27,214 — randomForest_classifier.processing.preprocessors — DEBUG —transform:141 — YearsVariableEstimator Time: 0.05449676513671875\n",
      "2021-04-06 22:14:27,369 — randomForest_classifier.processing.preprocessors — DEBUG —transform:175 — RareLabelCategoricalEncoder Time: 0.14946341514587402\n",
      "2021-04-06 22:14:27,934 — randomForest_classifier.processing.preprocessors — DEBUG —transform:218 — CategoricalEncoder Time: 0.5590202808380127\n",
      "(55948, 69)\n",
      "2021-04-06 22:14:27,963 — randomForest_classifier.processing.preprocessors — DEBUG —transform:235 — DropUnecessaryFeatures Time: 0.016893386840820312\n",
      "2021-04-06 22:14:27,998 — randomForest_classifier.processing.preprocessors — DEBUG —transform:253 — MyMinMaxScaler Time: 0.033739328384399414\n",
      "2021-04-06 22:14:28,006 — randomForest_classifier.predict — INFO —make_transform:79 — Making predictions with model version: 0.0.2 \n"
     ]
    }
   ],
   "source": [
    "tt = test_make_multiple_predictions()"
   ]
  },
  {
   "cell_type": "code",
   "execution_count": 32,
   "id": "aging-lancaster",
   "metadata": {},
   "outputs": [],
   "source": [
    "dataset = pd.concat([tt['transform'], tt['target']], axis = 1)"
   ]
  },
  {
   "cell_type": "code",
   "execution_count": 33,
   "id": "corrected-omaha",
   "metadata": {},
   "outputs": [
    {
     "data": {
      "text/html": [
       "<div>\n",
       "<style scoped>\n",
       "    .dataframe tbody tr th:only-of-type {\n",
       "        vertical-align: middle;\n",
       "    }\n",
       "\n",
       "    .dataframe tbody tr th {\n",
       "        vertical-align: top;\n",
       "    }\n",
       "\n",
       "    .dataframe thead th {\n",
       "        text-align: right;\n",
       "    }\n",
       "</style>\n",
       "<table border=\"1\" class=\"dataframe\">\n",
       "  <thead>\n",
       "    <tr style=\"text-align: right;\">\n",
       "      <th></th>\n",
       "      <th>numero_cuotas</th>\n",
       "      <th>cl_unq_act_act_messolicitud</th>\n",
       "      <th>cl_unq_act_act_trimestresolicitud</th>\n",
       "      <th>cl_unq_act_act_fechasolicitud_date</th>\n",
       "      <th>cl_unq_act_act_monto</th>\n",
       "      <th>...</th>\n",
       "      <th>cl_unq_act_act_flagtienehorno</th>\n",
       "      <th>cl_unq_act_act_flagtienemicroondas</th>\n",
       "      <th>cl_unq_act_act_flagtienestereo</th>\n",
       "      <th>cl_unq_act_act_fnacimiento_date</th>\n",
       "      <th>maxmora</th>\n",
       "    </tr>\n",
       "  </thead>\n",
       "  <tbody>\n",
       "    <tr>\n",
       "      <th>0</th>\n",
       "      <td>0.058824</td>\n",
       "      <td>0.909091</td>\n",
       "      <td>1.000000</td>\n",
       "      <td>1.0</td>\n",
       "      <td>0.241714</td>\n",
       "      <td>...</td>\n",
       "      <td>0.5</td>\n",
       "      <td>0.5</td>\n",
       "      <td>1.0</td>\n",
       "      <td>0.000000</td>\n",
       "      <td>1</td>\n",
       "    </tr>\n",
       "    <tr>\n",
       "      <th>1</th>\n",
       "      <td>0.176471</td>\n",
       "      <td>0.090909</td>\n",
       "      <td>0.000000</td>\n",
       "      <td>1.0</td>\n",
       "      <td>0.198594</td>\n",
       "      <td>...</td>\n",
       "      <td>1.0</td>\n",
       "      <td>1.0</td>\n",
       "      <td>1.0</td>\n",
       "      <td>0.607843</td>\n",
       "      <td>1</td>\n",
       "    </tr>\n",
       "    <tr>\n",
       "      <th>2</th>\n",
       "      <td>0.294118</td>\n",
       "      <td>0.545455</td>\n",
       "      <td>0.666667</td>\n",
       "      <td>1.0</td>\n",
       "      <td>0.121038</td>\n",
       "      <td>...</td>\n",
       "      <td>0.5</td>\n",
       "      <td>0.5</td>\n",
       "      <td>0.5</td>\n",
       "      <td>0.000000</td>\n",
       "      <td>0</td>\n",
       "    </tr>\n",
       "    <tr>\n",
       "      <th>3</th>\n",
       "      <td>0.088235</td>\n",
       "      <td>1.000000</td>\n",
       "      <td>1.000000</td>\n",
       "      <td>1.0</td>\n",
       "      <td>0.741482</td>\n",
       "      <td>...</td>\n",
       "      <td>0.5</td>\n",
       "      <td>0.5</td>\n",
       "      <td>1.0</td>\n",
       "      <td>0.745098</td>\n",
       "      <td>1</td>\n",
       "    </tr>\n",
       "    <tr>\n",
       "      <th>4</th>\n",
       "      <td>0.323529</td>\n",
       "      <td>0.636364</td>\n",
       "      <td>0.666667</td>\n",
       "      <td>1.0</td>\n",
       "      <td>0.136549</td>\n",
       "      <td>...</td>\n",
       "      <td>1.0</td>\n",
       "      <td>0.5</td>\n",
       "      <td>1.0</td>\n",
       "      <td>0.568627</td>\n",
       "      <td>1</td>\n",
       "    </tr>\n",
       "  </tbody>\n",
       "</table>\n",
       "<p>5 rows × 69 columns</p>\n",
       "</div>"
      ],
      "text/plain": [
       "   numero_cuotas  cl_unq_act_act_messolicitud  \\\n",
       "0       0.058824                     0.909091   \n",
       "1       0.176471                     0.090909   \n",
       "2       0.294118                     0.545455   \n",
       "3       0.088235                     1.000000   \n",
       "4       0.323529                     0.636364   \n",
       "\n",
       "   cl_unq_act_act_trimestresolicitud  cl_unq_act_act_fechasolicitud_date  \\\n",
       "0                           1.000000                                 1.0   \n",
       "1                           0.000000                                 1.0   \n",
       "2                           0.666667                                 1.0   \n",
       "3                           1.000000                                 1.0   \n",
       "4                           0.666667                                 1.0   \n",
       "\n",
       "   cl_unq_act_act_monto  ...  cl_unq_act_act_flagtienehorno  \\\n",
       "0              0.241714  ...                            0.5   \n",
       "1              0.198594  ...                            1.0   \n",
       "2              0.121038  ...                            0.5   \n",
       "3              0.741482  ...                            0.5   \n",
       "4              0.136549  ...                            1.0   \n",
       "\n",
       "   cl_unq_act_act_flagtienemicroondas  cl_unq_act_act_flagtienestereo  \\\n",
       "0                                 0.5                             1.0   \n",
       "1                                 1.0                             1.0   \n",
       "2                                 0.5                             0.5   \n",
       "3                                 0.5                             1.0   \n",
       "4                                 0.5                             1.0   \n",
       "\n",
       "   cl_unq_act_act_fnacimiento_date  maxmora  \n",
       "0                         0.000000        1  \n",
       "1                         0.607843        1  \n",
       "2                         0.000000        0  \n",
       "3                         0.745098        1  \n",
       "4                         0.568627        1  \n",
       "\n",
       "[5 rows x 69 columns]"
      ]
     },
     "execution_count": 33,
     "metadata": {},
     "output_type": "execute_result"
    }
   ],
   "source": [
    "dataset.head()"
   ]
  },
  {
   "cell_type": "code",
   "execution_count": 10,
   "id": "educated-faculty",
   "metadata": {},
   "outputs": [
    {
     "name": "stdout",
     "output_type": "stream",
     "text": [
      "Columns with Missing:\n"
     ]
    }
   ],
   "source": [
    "print(\"Columns with Missing:\")\n",
    "for col in dataset.columns.to_list():\n",
    "    if(dataset[dataset[col] == \"Missing\"][col].shape[0] != 0):\n",
    "        print('\\t',col)"
   ]
  },
  {
   "cell_type": "markdown",
   "id": "fluid-panama",
   "metadata": {},
   "source": [
    "#### GridSearch and Refit"
   ]
  },
  {
   "cell_type": "code",
   "execution_count": 5,
   "id": "unlikely-there",
   "metadata": {},
   "outputs": [],
   "source": [
    "from xgb_classifier.gridSearch_and_fit import run_gridSearch_and_fit"
   ]
  },
  {
   "cell_type": "code",
   "execution_count": 6,
   "id": "artificial-domain",
   "metadata": {
    "scrolled": false
   },
   "outputs": [
    {
     "name": "stdout",
     "output_type": "stream",
     "text": [
      "2021-03-18 00:12:27,443 — xgb_classifier.processing.preprocessors — DEBUG —transform:53 — NumericallCasterFromString Time: 0.00869607925415039\n",
      "2021-03-18 00:12:27,456 — xgb_classifier.processing.preprocessors — DEBUG —transform:92 — DateCasterFromString Time: 0.012336492538452148\n",
      "2021-03-18 00:12:27,477 — xgb_classifier.processing.preprocessors — DEBUG —transform:134 — DataTypeCaster Time: 0.013808488845825195\n",
      "2021-03-18 00:12:27,494 — xgb_classifier.processing.preprocessors — DEBUG —transform:159 — ModifiedVariablesChanger ('cl_unq_act_act_estadocivil', 'cl_unq_act_act_estadocivilmodificado')\n",
      "2021-03-18 00:12:27,498 — xgb_classifier.processing.preprocessors — DEBUG —transform:161 — ModifiedVariablesChanger {'feature_modified': 'cl_unq_act_act_estadocivilmodificado'}\n",
      "2021-03-18 00:12:27,528 — xgb_classifier.processing.preprocessors — DEBUG —transform:159 — ModifiedVariablesChanger ('cl_unq_act_act_profesion', 'cl_unq_act_act_profesionmodificada')\n",
      "2021-03-18 00:12:27,531 — xgb_classifier.processing.preprocessors — DEBUG —transform:161 — ModifiedVariablesChanger {'feature_modified': 'cl_unq_act_act_profesionmodificada'}\n",
      "2021-03-18 00:12:27,557 — xgb_classifier.processing.preprocessors — DEBUG —transform:164 — ModifiedVariablesChanger Time: 0.07251262664794922\n",
      "2021-03-18 00:12:27,685 — xgb_classifier.processing.preprocessors — DEBUG —transform:194 — CategoricalImputer Time: 0.12006068229675293\n",
      "2021-03-18 00:12:27,705 — xgb_classifier.processing.preprocessors — DEBUG —transform:223 — DictionaryImputer Time: 0.013290882110595703\n",
      "2021-03-18 00:12:27,806 — xgb_classifier.processing.preprocessors — DEBUG —transform:272 — SimilarityValueMapper Time: 0.09288740158081055\n",
      "2021-03-18 00:12:27,939 — xgb_classifier.processing.preprocessors — DEBUG —transform:315 — RareLabelCategoricalEncoder Time: 0.1257314682006836\n",
      "2021-03-18 00:12:27,977 — xgb_classifier.processing.features — DEBUG —transform:80 — DropNearNAFeatures Time: 0.030534744262695312\n",
      "2021-03-18 00:15:23,954 — xgb_classifier.processing.features — DEBUG —transform:183 — CategoricalOneHotEncoding Time: 175.97077059745789\n",
      "2021-03-18 00:15:24,011 — xgb_classifier.processing.features — DEBUG —transform:250 — NumericalImputerMedian Time: 0.04613041877746582\n",
      "2021-03-18 00:15:24,170 — xgb_classifier.processing.features — DEBUG —transform:298 — NumericalImputerOutliers Time: 0.15805888175964355\n",
      "2021-03-18 00:15:24,199 — xgb_classifier.processing.features — DEBUG —transform:330 — DropNearCeroVarFeatures Time: 0.02786111831665039\n",
      "2021-03-18 00:15:24,205 — xgb_classifier.processing.features — DEBUG —transform:368 — DropCorrelatedFeatures Shape after DropCorrelatedFeatures: (48055, 38)\n",
      "2021-03-18 00:15:24,205 — xgb_classifier.processing.features — DEBUG —transform:370 — DropCorrelatedFeatures Time: 0.005939006805419922\n",
      "2021-03-18 00:15:24,223 — xgb_classifier.processing.features — DEBUG —transform:570 — ScaleFeatures Time: 0.017237186431884766\n",
      "2021-03-18 00:15:24,248 — xgb_classifier.processing.features — DEBUG —transform:517 — FeaturesCreatorByTreesParallel Shape after FeaturesCreatorByTreesParallel: (48055, 82)\n",
      "2021-03-18 00:15:24,249 — xgb_classifier.processing.features — DEBUG —transform:519 — FeaturesCreatorByTreesParallel Time: 0.022928237915039062\n",
      "2021-03-18 01:54:38,215 — xgb_classifier.processing.grid_search — INFO —grid_search:49 — grid search time: 6132.086717844009\n",
      "2021-03-18 01:54:38,235 — xgb_classifier.processing.data_management — INFO —save_params:75 — saved params: randomForest_classifier_bestParams_0.0.005.csv\n",
      "2021-03-18 01:54:38,799 — xgb_classifier.processing.grid_search — INFO —dataset_distribution:54 — dataset shape: (53395, 88)\n",
      "2021-03-18 01:54:38,821 — xgb_classifier.processing.grid_search — INFO —dataset_distribution:70 — dataset distribution:\n",
      "+----+-----------+---------------+\n",
      "|    |   maxmora |   maxmora_pct |\n",
      "|----+-----------+---------------|\n",
      "|  0 |     15638 |         29.29 |\n",
      "|  1 |     25298 |         47.38 |\n",
      "|  2 |      4039 |          7.56 |\n",
      "|  3 |      2021 |          3.78 |\n",
      "|  4 |      5620 |         10.53 |\n",
      "|  5 |       628 |          1.18 |\n",
      "|  6 |       151 |          0.28 |\n",
      "+----+-----------+---------------+\n",
      "2021-03-18 01:54:38,822 — xgb_classifier.processing.grid_search — INFO —dataset_distribution:71 — dataset distribution by group:\n",
      "+-------+-----------+---------------+\n",
      "|       |   maxmora |   maxmora_pct |\n",
      "|-------+-----------+---------------|\n",
      "| 0 - 2 |     46996 |         88.01 |\n",
      "| 3 - 6 |      6399 |         11.99 |\n",
      "+-------+-----------+---------------+\n",
      "2021-03-18 01:54:39,512 — xgb_classifier.processing.data_management — INFO —load_params:57 — best parameters from grid search: {'max_depth': 30, 'min_child_weight': 0}\n"
     ]
    },
    {
     "name": "stderr",
     "output_type": "stream",
     "text": [
      "/usr/local/lib/python3.8/site-packages/sklearn/base.py:193: FutureWarning: From version 0.24, get_params will raise an AttributeError if a parameter cannot be retrieved as an instance attribute. Previously it would return None.\n",
      "  warnings.warn('From version 0.24, get_params will raise an '\n"
     ]
    },
    {
     "name": "stdout",
     "output_type": "stream",
     "text": [
      "2021-03-18 01:54:43,402 — xgb_classifier.processing.preprocessors — DEBUG —fit:41 — NumericallCasterFromString Time: 3.2712574005126953\n",
      "2021-03-18 01:54:43,412 — xgb_classifier.processing.preprocessors — DEBUG —transform:53 — NumericallCasterFromString Time: 0.008701324462890625\n",
      "2021-03-18 01:54:46,827 — xgb_classifier.processing.preprocessors — DEBUG —fit:82 — DateCasterFromString Time: 3.4142282009124756\n",
      "2021-03-18 01:54:46,836 — xgb_classifier.processing.preprocessors — DEBUG —transform:92 — DateCasterFromString Time: 0.008537769317626953\n",
      "2021-03-18 01:54:47,076 — xgb_classifier.processing.preprocessors — DEBUG —fit:118 — DataTypeCaster Time: 0.23258757591247559\n",
      "2021-03-18 01:54:47,098 — xgb_classifier.processing.preprocessors — DEBUG —transform:134 — DataTypeCaster Time: 0.013518810272216797\n",
      "2021-03-18 01:54:47,114 — xgb_classifier.processing.preprocessors — DEBUG —transform:159 — ModifiedVariablesChanger ('cl_unq_act_act_estadocivil', 'cl_unq_act_act_estadocivilmodificado')\n",
      "2021-03-18 01:54:47,118 — xgb_classifier.processing.preprocessors — DEBUG —transform:161 — ModifiedVariablesChanger {'feature_modified': 'cl_unq_act_act_estadocivilmodificado'}\n",
      "2021-03-18 01:54:47,144 — xgb_classifier.processing.preprocessors — DEBUG —transform:159 — ModifiedVariablesChanger ('cl_unq_act_act_profesion', 'cl_unq_act_act_profesionmodificada')\n",
      "2021-03-18 01:54:47,148 — xgb_classifier.processing.preprocessors — DEBUG —transform:161 — ModifiedVariablesChanger {'feature_modified': 'cl_unq_act_act_profesionmodificada'}\n",
      "2021-03-18 01:54:47,173 — xgb_classifier.processing.preprocessors — DEBUG —transform:164 — ModifiedVariablesChanger Time: 0.06818699836730957\n",
      "2021-03-18 01:54:47,785 — xgb_classifier.processing.preprocessors — DEBUG —fit:184 — CategoricalImputer Time: 0.6036746501922607\n",
      "2021-03-18 01:54:47,920 — xgb_classifier.processing.preprocessors — DEBUG —transform:194 — CategoricalImputer Time: 0.11873865127563477\n",
      "2021-03-18 01:54:47,939 — xgb_classifier.processing.preprocessors — DEBUG —transform:223 — DictionaryImputer Time: 0.012172937393188477\n",
      "2021-03-18 01:54:48,736 — xgb_classifier.processing.preprocessors — DEBUG —fit:247 — SimilarityValueMapper Nummber of features sim: 42\n",
      "2021-03-18 01:54:49,115 — xgb_classifier.processing.preprocessors — DEBUG —fit:260 — SimilarityValueMapper Time: 1.1692428588867188\n",
      "2021-03-18 01:54:49,209 — xgb_classifier.processing.preprocessors — DEBUG —transform:272 — SimilarityValueMapper Time: 0.09242415428161621\n",
      "2021-03-18 01:54:50,275 — xgb_classifier.processing.preprocessors — DEBUG —fit:303 — RareLabelCategoricalEncoder Time: 1.0588321685791016\n",
      "2021-03-18 01:54:50,395 — xgb_classifier.processing.preprocessors — DEBUG —transform:315 — RareLabelCategoricalEncoder Time: 0.11925482749938965\n",
      "2021-03-18 01:54:50,433 — xgb_classifier.processing.features — DEBUG —transform:80 — DropNearNAFeatures Time: 0.03056502342224121\n",
      "2021-03-18 01:57:49,385 — xgb_classifier.processing.features — DEBUG —transform:183 — CategoricalOneHotEncoding Time: 178.94558453559875\n",
      "2021-03-18 01:57:49,443 — xgb_classifier.processing.features — DEBUG —transform:250 — NumericalImputerMedian Time: 0.0515294075012207\n",
      "2021-03-18 01:57:49,603 — xgb_classifier.processing.features — DEBUG —transform:298 — NumericalImputerOutliers Time: 0.1600205898284912\n",
      "2021-03-18 01:57:49,622 — xgb_classifier.processing.features — DEBUG —transform:330 — DropNearCeroVarFeatures Time: 0.017606258392333984\n",
      "2021-03-18 01:57:49,627 — xgb_classifier.processing.features — DEBUG —transform:368 — DropCorrelatedFeatures Shape after DropCorrelatedFeatures: (48055, 38)\n",
      "2021-03-18 01:57:49,628 — xgb_classifier.processing.features — DEBUG —transform:370 — DropCorrelatedFeatures Time: 0.005204439163208008\n",
      "2021-03-18 01:57:49,646 — xgb_classifier.processing.features — DEBUG —transform:570 — ScaleFeatures Time: 0.017420291900634766\n",
      "2021-03-18 01:57:49,648 — xgb_classifier.processing.features — WARNING —fit:461 — FeaturesCreatorByTreesParallel - Features iteractions already created and recovered\n",
      "2021-03-18 01:57:49,672 — xgb_classifier.processing.features — DEBUG —transform:517 — FeaturesCreatorByTreesParallel Shape after FeaturesCreatorByTreesParallel: (48055, 82)\n",
      "2021-03-18 01:57:49,673 — xgb_classifier.processing.features — DEBUG —transform:519 — FeaturesCreatorByTreesParallel Time: 0.02400660514831543\n",
      "2021-03-18 02:00:19,668 — xgb_classifier.processing.data_management — INFO —save_pipeline:40 — saved pipeline: randomForest_classifier_0.0.005.pkl\n",
      "2021-03-18 02:00:19,671 — xgb_classifier.processing.preprocessors — DEBUG —transform:53 — NumericallCasterFromString Time: 0.0015299320220947266\n",
      "2021-03-18 02:00:19,673 — xgb_classifier.processing.preprocessors — DEBUG —transform:92 — DateCasterFromString Time: 0.0011930465698242188\n",
      "2021-03-18 02:00:19,679 — xgb_classifier.processing.preprocessors — DEBUG —transform:134 — DataTypeCaster Time: 0.004774570465087891\n",
      "2021-03-18 02:00:19,681 — xgb_classifier.processing.preprocessors — DEBUG —transform:159 — ModifiedVariablesChanger ('cl_unq_act_act_estadocivil', 'cl_unq_act_act_estadocivilmodificado')\n",
      "2021-03-18 02:00:19,682 — xgb_classifier.processing.preprocessors — DEBUG —transform:161 — ModifiedVariablesChanger {'feature_modified': 'cl_unq_act_act_estadocivilmodificado'}\n",
      "2021-03-18 02:00:19,686 — xgb_classifier.processing.preprocessors — DEBUG —transform:159 — ModifiedVariablesChanger ('cl_unq_act_act_profesion', 'cl_unq_act_act_profesionmodificada')\n",
      "2021-03-18 02:00:19,687 — xgb_classifier.processing.preprocessors — DEBUG —transform:161 — ModifiedVariablesChanger {'feature_modified': 'cl_unq_act_act_profesionmodificada'}\n",
      "2021-03-18 02:00:19,691 — xgb_classifier.processing.preprocessors — DEBUG —transform:164 — ModifiedVariablesChanger Time: 0.011334657669067383\n",
      "2021-03-18 02:00:19,718 — xgb_classifier.processing.preprocessors — DEBUG —transform:194 — CategoricalImputer Time: 0.02547454833984375\n",
      "2021-03-18 02:00:19,722 — xgb_classifier.processing.preprocessors — DEBUG —transform:223 — DictionaryImputer Time: 0.0023555755615234375\n",
      "2021-03-18 02:00:19,752 — xgb_classifier.processing.preprocessors — DEBUG —transform:272 — SimilarityValueMapper Time: 0.028544902801513672\n",
      "2021-03-18 02:00:19,780 — xgb_classifier.processing.preprocessors — DEBUG —transform:315 — RareLabelCategoricalEncoder Time: 0.026945829391479492\n",
      "2021-03-18 02:00:19,785 — xgb_classifier.processing.features — DEBUG —transform:80 — DropNearNAFeatures Time: 0.0041544437408447266\n",
      "2021-03-18 02:00:34,343 — xgb_classifier.processing.features — DEBUG —transform:183 — CategoricalOneHotEncoding Time: 14.556039571762085\n",
      "2021-03-18 02:00:34,375 — xgb_classifier.processing.features — DEBUG —transform:250 — NumericalImputerMedian Time: 0.031198501586914062\n",
      "2021-03-18 02:00:34,497 — xgb_classifier.processing.features — DEBUG —transform:298 — NumericalImputerOutliers Time: 0.12089920043945312\n",
      "2021-03-18 02:00:34,500 — xgb_classifier.processing.features — DEBUG —transform:330 — DropNearCeroVarFeatures Time: 0.0031576156616210938\n",
      "2021-03-18 02:00:34,502 — xgb_classifier.processing.features — DEBUG —transform:368 — DropCorrelatedFeatures Shape after DropCorrelatedFeatures: (5340, 38)\n",
      "2021-03-18 02:00:34,503 — xgb_classifier.processing.features — DEBUG —transform:370 — DropCorrelatedFeatures Time: 0.0014607906341552734\n",
      "2021-03-18 02:00:34,516 — xgb_classifier.processing.features — DEBUG —transform:570 — ScaleFeatures Time: 0.013170242309570312\n",
      "2021-03-18 02:00:34,535 — xgb_classifier.processing.features — DEBUG —transform:517 — FeaturesCreatorByTreesParallel Shape after FeaturesCreatorByTreesParallel: (5340, 82)\n",
      "2021-03-18 02:00:34,535 — xgb_classifier.processing.features — DEBUG —transform:519 — FeaturesCreatorByTreesParallel Time: 0.018151044845581055\n",
      "2021-03-18 02:00:34,652 — xgb_classifier.processing.grid_search — INFO —model_score:114 — accuracy: 51.65\n",
      "2021-03-18 02:00:34,654 — xgb_classifier.processing.grid_search — INFO —model_score:115 — rmse: 124.80\n",
      "{'max_depth': 30, 'min_child_weight': 0} 0.5007074490220557\n",
      "CPU times: user 1d 12min 52s, sys: 1min, total: 1d 13min 53s\n",
      "Wall time: 1h 48min 8s\n"
     ]
    }
   ],
   "source": [
    "%%time\n",
    "if(True):\n",
    "    run_gridSearch_and_fit(limit_number_of_rows = None)"
   ]
  },
  {
   "cell_type": "markdown",
   "id": "hollow-mercy",
   "metadata": {},
   "source": [
    "#### Display Stats"
   ]
  },
  {
   "cell_type": "code",
   "execution_count": 1,
   "id": "armed-recovery",
   "metadata": {},
   "outputs": [],
   "source": [
    "from xgb_classifier.processing.scoring import model_stats, model_stats_plain"
   ]
  },
  {
   "cell_type": "code",
   "execution_count": 2,
   "id": "cooked-unknown",
   "metadata": {
    "scrolled": false
   },
   "outputs": [
    {
     "name": "stdout",
     "output_type": "stream",
     "text": [
      "2021-03-25 21:31:11,915 — xgb_classifier.processing.preprocessors — DEBUG —transform:64 — NumericallCasterFromString Time: 0.0010383129119873047\n",
      "2021-03-25 21:31:11,917 — xgb_classifier.processing.preprocessors — DEBUG —transform:119 — DateCasterFromString Time: 0.0011272430419921875\n",
      "2021-03-25 21:31:12,183 — xgb_classifier.processing.preprocessors — DEBUG —transform:168 — DataTypeCaster Time: 0.2647249698638916\n",
      "2021-03-25 21:31:12,197 — xgb_classifier.processing.preprocessors — DEBUG —transform:209 — ModifiedVariablesChanger Time: 0.012531757354736328\n",
      "2021-03-25 21:31:12,227 — xgb_classifier.processing.preprocessors — DEBUG —transform:243 — CategoricalImputer Time: 0.029256105422973633\n",
      "2021-03-25 21:31:12,233 — xgb_classifier.processing.preprocessors — DEBUG —transform:280 — DictionaryImputer Time: 0.003711223602294922\n",
      "2021-03-25 21:31:12,267 — xgb_classifier.processing.preprocessors — DEBUG —transform:350 — SimilarityValueMapper Time: 0.03255772590637207\n",
      "2021-03-25 21:31:12,305 — xgb_classifier.processing.preprocessors — DEBUG —transform:401 — RareLabelCategoricalEncoder Time: 0.035578250885009766\n",
      "2021-03-25 21:31:12,313 — xgb_classifier.processing.features — DEBUG —transform:60 — DropNearNAFeatures Time: 0.006219387054443359\n",
      "2021-03-25 21:31:12,462 — xgb_classifier.processing.features — DEBUG —transform:124 — CategoricalOneHotEncoding Time: 0.14710783958435059\n",
      "2021-03-25 21:31:12,486 — xgb_classifier.processing.features — DEBUG —transform:165 — NumericalImputerMedian Time: 0.021909713745117188\n",
      "2021-03-25 21:31:12,615 — xgb_classifier.processing.features — DEBUG —transform:238 — NumericalImputerOutliers Time: 0.1278831958770752\n",
      "2021-03-25 21:31:12,621 — xgb_classifier.processing.features — DEBUG —transform:280 — DropNearCeroVarFeatures Time: 0.005417585372924805\n",
      "2021-03-25 21:31:12,623 — xgb_classifier.processing.features — DEBUG —transform:340 — DropCorrelatedFeatures Shape after DropCorrelatedFeatures: (5501, 36)\n",
      "2021-03-25 21:31:12,623 — xgb_classifier.processing.features — DEBUG —transform:342 — DropCorrelatedFeatures Time: 0.0014309883117675781\n",
      "2021-03-25 21:31:12,637 — xgb_classifier.processing.features — DEBUG —transform:456 — ScaleFeatures Time: 0.012864112854003906\n",
      "2021-03-25 21:31:12,653 — xgb_classifier.processing.features — DEBUG —transform:413 — FeaturesCreatorByTreesParallel Shape after FeaturesCreatorByTreesParallel: (5501, 72)\n",
      "2021-03-25 21:31:12,653 — xgb_classifier.processing.features — DEBUG —transform:415 — FeaturesCreatorByTreesParallel Time: 0.015949249267578125\n",
      "2021-03-25 21:31:12,755 — xgb_classifier.processing.preprocessors — DEBUG —transform:64 — NumericallCasterFromString Time: 0.0010793209075927734\n",
      "2021-03-25 21:31:12,756 — xgb_classifier.processing.preprocessors — DEBUG —transform:119 — DateCasterFromString Time: 0.0011093616485595703\n",
      "2021-03-25 21:31:13,032 — xgb_classifier.processing.preprocessors — DEBUG —transform:168 — DataTypeCaster Time: 0.27448534965515137\n",
      "2021-03-25 21:31:13,046 — xgb_classifier.processing.preprocessors — DEBUG —transform:209 — ModifiedVariablesChanger Time: 0.012370109558105469\n",
      "2021-03-25 21:31:13,075 — xgb_classifier.processing.preprocessors — DEBUG —transform:243 — CategoricalImputer Time: 0.02852940559387207\n",
      "2021-03-25 21:31:13,080 — xgb_classifier.processing.preprocessors — DEBUG —transform:280 — DictionaryImputer Time: 0.003519296646118164\n",
      "2021-03-25 21:31:13,114 — xgb_classifier.processing.preprocessors — DEBUG —transform:350 — SimilarityValueMapper Time: 0.03192138671875\n",
      "2021-03-25 21:31:13,151 — xgb_classifier.processing.preprocessors — DEBUG —transform:401 — RareLabelCategoricalEncoder Time: 0.0350191593170166\n",
      "2021-03-25 21:31:13,159 — xgb_classifier.processing.features — DEBUG —transform:60 — DropNearNAFeatures Time: 0.0060329437255859375\n",
      "2021-03-25 21:31:13,310 — xgb_classifier.processing.features — DEBUG —transform:124 — CategoricalOneHotEncoding Time: 0.149733304977417\n",
      "2021-03-25 21:31:13,336 — xgb_classifier.processing.features — DEBUG —transform:165 — NumericalImputerMedian Time: 0.021322250366210938\n",
      "2021-03-25 21:31:13,463 — xgb_classifier.processing.features — DEBUG —transform:238 — NumericalImputerOutliers Time: 0.1262648105621338\n",
      "2021-03-25 21:31:13,469 — xgb_classifier.processing.features — DEBUG —transform:280 — DropNearCeroVarFeatures Time: 0.005400180816650391\n",
      "2021-03-25 21:31:13,471 — xgb_classifier.processing.features — DEBUG —transform:340 — DropCorrelatedFeatures Shape after DropCorrelatedFeatures: (5501, 36)\n",
      "2021-03-25 21:31:13,471 — xgb_classifier.processing.features — DEBUG —transform:342 — DropCorrelatedFeatures Time: 0.0013241767883300781\n",
      "2021-03-25 21:31:13,486 — xgb_classifier.processing.features — DEBUG —transform:456 — ScaleFeatures Time: 0.014338016510009766\n",
      "2021-03-25 21:31:13,502 — xgb_classifier.processing.features — DEBUG —transform:413 — FeaturesCreatorByTreesParallel Shape after FeaturesCreatorByTreesParallel: (5501, 72)\n",
      "2021-03-25 21:31:13,502 — xgb_classifier.processing.features — DEBUG —transform:415 — FeaturesCreatorByTreesParallel Time: 0.015599250793457031\n",
      "2021-03-25 21:31:13,654 — xgb_classifier.processing.preprocessors — DEBUG —transform:64 — NumericallCasterFromString Time: 0.0010564327239990234\n",
      "2021-03-25 21:31:13,656 — xgb_classifier.processing.preprocessors — DEBUG —transform:119 — DateCasterFromString Time: 0.0011017322540283203\n",
      "2021-03-25 21:31:13,926 — xgb_classifier.processing.preprocessors — DEBUG —transform:168 — DataTypeCaster Time: 0.26895880699157715\n",
      "2021-03-25 21:31:13,942 — xgb_classifier.processing.preprocessors — DEBUG —transform:209 — ModifiedVariablesChanger Time: 0.013649225234985352\n",
      "2021-03-25 21:31:13,973 — xgb_classifier.processing.preprocessors — DEBUG —transform:243 — CategoricalImputer Time: 0.030553340911865234\n",
      "2021-03-25 21:31:13,979 — xgb_classifier.processing.preprocessors — DEBUG —transform:280 — DictionaryImputer Time: 0.003945827484130859\n",
      "2021-03-25 21:31:14,014 — xgb_classifier.processing.preprocessors — DEBUG —transform:350 — SimilarityValueMapper Time: 0.03338289260864258\n",
      "2021-03-25 21:31:14,055 — xgb_classifier.processing.preprocessors — DEBUG —transform:401 — RareLabelCategoricalEncoder Time: 0.0385894775390625\n",
      "2021-03-25 21:31:14,064 — xgb_classifier.processing.features — DEBUG —transform:60 — DropNearNAFeatures Time: 0.006672859191894531\n",
      "2021-03-25 21:31:14,219 — xgb_classifier.processing.features — DEBUG —transform:124 — CategoricalOneHotEncoding Time: 0.15378546714782715\n",
      "2021-03-25 21:31:14,250 — xgb_classifier.processing.features — DEBUG —transform:165 — NumericalImputerMedian Time: 0.027494430541992188\n",
      "2021-03-25 21:31:14,376 — xgb_classifier.processing.features — DEBUG —transform:238 — NumericalImputerOutliers Time: 0.125960111618042\n",
      "2021-03-25 21:31:14,382 — xgb_classifier.processing.features — DEBUG —transform:280 — DropNearCeroVarFeatures Time: 0.005208730697631836\n",
      "2021-03-25 21:31:14,384 — xgb_classifier.processing.features — DEBUG —transform:340 — DropCorrelatedFeatures Shape after DropCorrelatedFeatures: (5501, 36)\n",
      "2021-03-25 21:31:14,384 — xgb_classifier.processing.features — DEBUG —transform:342 — DropCorrelatedFeatures Time: 0.0012993812561035156\n",
      "2021-03-25 21:31:14,396 — xgb_classifier.processing.features — DEBUG —transform:456 — ScaleFeatures Time: 0.011573553085327148\n",
      "2021-03-25 21:31:14,412 — xgb_classifier.processing.features — DEBUG —transform:413 — FeaturesCreatorByTreesParallel Shape after FeaturesCreatorByTreesParallel: (5501, 72)\n",
      "2021-03-25 21:31:14,413 — xgb_classifier.processing.features — DEBUG —transform:415 — FeaturesCreatorByTreesParallel Time: 0.015425920486450195\n",
      "TPR: 95.72\n",
      "TNR: 43.16\n",
      "Good  punished: 3.65%, Bad approved: 8.31%\n",
      "CPU times: user 7.17 s, sys: 70.9 ms, total: 7.24 s\n",
      "Wall time: 3.25 s\n"
     ]
    },
    {
     "name": "stderr",
     "output_type": "stream",
     "text": [
      "/home/docker/data/cch-iniciacion/ds-cch-iniciacion/deploy/packages/xgb_classifier/xgb_classifier/processing/scoring.py:55: RuntimeWarning: invalid value encountered in true_divide\n",
      "  PPV = TP/(TP+FP)\n",
      "/home/docker/data/cch-iniciacion/ds-cch-iniciacion/deploy/packages/xgb_classifier/xgb_classifier/processing/scoring.py:63: RuntimeWarning: invalid value encountered in true_divide\n",
      "  FDR = FP/(TP+FP)\n"
     ]
    },
    {
     "data": {
      "image/png": "[encoded data removed]",
      "text/plain": [
       "<Figure size 432x288 with 2 Axes>"
      ]
     },
     "metadata": {
      "needs_background": "light"
     },
     "output_type": "display_data"
    },
    {
     "data": {
      "image/png": "[encoded data removed]",
      "text/plain": [
       "<Figure size 432x288 with 2 Axes>"
      ]
     },
     "metadata": {
      "needs_background": "light"
     },
     "output_type": "display_data"
    }
   ],
   "source": [
    "%%time\n",
    "scores, cm = model_stats(model = None, limit_number_of_rows = None)"
   ]
  },
  {
   "cell_type": "code",
   "execution_count": 3,
   "id": "crude-fundamentals",
   "metadata": {},
   "outputs": [
    {
     "name": "stdout",
     "output_type": "stream",
     "text": [
      "2021-03-25 21:31:15,599 — xgb_classifier.processing.preprocessors — DEBUG —transform:64 — NumericallCasterFromString Time: 0.0008788108825683594\n",
      "2021-03-25 21:31:15,601 — xgb_classifier.processing.preprocessors — DEBUG —transform:119 — DateCasterFromString Time: 0.0012080669403076172\n",
      "2021-03-25 21:31:15,860 — xgb_classifier.processing.preprocessors — DEBUG —transform:168 — DataTypeCaster Time: 0.2574894428253174\n",
      "2021-03-25 21:31:15,874 — xgb_classifier.processing.preprocessors — DEBUG —transform:209 — ModifiedVariablesChanger Time: 0.01308131217956543\n",
      "2021-03-25 21:31:15,903 — xgb_classifier.processing.preprocessors — DEBUG —transform:243 — CategoricalImputer Time: 0.0282289981842041\n",
      "2021-03-25 21:31:15,909 — xgb_classifier.processing.preprocessors — DEBUG —transform:280 — DictionaryImputer Time: 0.003742218017578125\n",
      "2021-03-25 21:31:15,943 — xgb_classifier.processing.preprocessors — DEBUG —transform:350 — SimilarityValueMapper Time: 0.03193497657775879\n",
      "2021-03-25 21:31:15,980 — xgb_classifier.processing.preprocessors — DEBUG —transform:401 — RareLabelCategoricalEncoder Time: 0.03558516502380371\n",
      "2021-03-25 21:31:15,988 — xgb_classifier.processing.features — DEBUG —transform:60 — DropNearNAFeatures Time: 0.006310224533081055\n",
      "2021-03-25 21:31:16,137 — xgb_classifier.processing.features — DEBUG —transform:124 — CategoricalOneHotEncoding Time: 0.14663314819335938\n",
      "2021-03-25 21:31:16,164 — xgb_classifier.processing.features — DEBUG —transform:165 — NumericalImputerMedian Time: 0.024716615676879883\n",
      "2021-03-25 21:31:16,291 — xgb_classifier.processing.features — DEBUG —transform:238 — NumericalImputerOutliers Time: 0.12517237663269043\n",
      "2021-03-25 21:31:16,297 — xgb_classifier.processing.features — DEBUG —transform:280 — DropNearCeroVarFeatures Time: 0.005360126495361328\n",
      "2021-03-25 21:31:16,298 — xgb_classifier.processing.features — DEBUG —transform:340 — DropCorrelatedFeatures Shape after DropCorrelatedFeatures: (5501, 36)\n",
      "2021-03-25 21:31:16,299 — xgb_classifier.processing.features — DEBUG —transform:342 — DropCorrelatedFeatures Time: 0.0013277530670166016\n",
      "2021-03-25 21:31:16,311 — xgb_classifier.processing.features — DEBUG —transform:456 — ScaleFeatures Time: 0.011857032775878906\n",
      "2021-03-25 21:31:16,327 — xgb_classifier.processing.features — DEBUG —transform:413 — FeaturesCreatorByTreesParallel Shape after FeaturesCreatorByTreesParallel: (5501, 72)\n",
      "2021-03-25 21:31:16,327 — xgb_classifier.processing.features — DEBUG —transform:415 — FeaturesCreatorByTreesParallel Time: 0.015477895736694336\n",
      "2021-03-25 21:31:16,364 — xgb_classifier.processing.scoring — INFO —model_stats_plain:183 — Inference confusion matrix:\n",
      "╒═════╤══════╤═════╤═════╤═════╤═════╤═════╕\n",
      "│   0 │    1 │   2 │   3 │   4 │   5 │   6 │\n",
      "╞═════╪══════╪═════╪═════╪═════╪═════╪═════╡\n",
      "│ 476 │ 1132 │   8 │   1 │  14 │   1 │   0 │\n",
      "├─────┼──────┼─────┼─────┼─────┼─────┼─────┤\n",
      "│ 490 │ 2000 │  15 │   9 │ 112 │   2 │   0 │\n",
      "├─────┼──────┼─────┼─────┼─────┼─────┼─────┤\n",
      "│  60 │  311 │   4 │   6 │  56 │   0 │   0 │\n",
      "├─────┼──────┼─────┼─────┼─────┼─────┼─────┤\n",
      "│  19 │  130 │   4 │   6 │  38 │   0 │   0 │\n",
      "├─────┼──────┼─────┼─────┼─────┼─────┼─────┤\n",
      "│  23 │  217 │   3 │   2 │ 283 │   1 │   0 │\n",
      "├─────┼──────┼─────┼─────┼─────┼─────┼─────┤\n",
      "│   9 │   41 │   0 │   0 │  17 │   0 │   0 │\n",
      "├─────┼──────┼─────┼─────┼─────┼─────┼─────┤\n",
      "│   0 │   11 │   0 │   0 │   0 │   0 │   0 │\n",
      "╘═════╧══════╧═════╧═════╧═════╧═════╧═════╛\n",
      "2021-03-25 21:31:16,364 — xgb_classifier.processing.scoring — INFO —model_stats_plain:184 — TPR: 95.72 TNR: 43.16\n",
      "2021-03-25 21:31:16,365 — xgb_classifier.processing.scoring — INFO —model_stats_plain:185 — Good  punished: 3.65%, Bad approved: 8.31%\n"
     ]
    },
    {
     "name": "stderr",
     "output_type": "stream",
     "text": [
      "/home/docker/data/cch-iniciacion/ds-cch-iniciacion/deploy/packages/xgb_classifier/xgb_classifier/processing/scoring.py:138: RuntimeWarning: invalid value encountered in true_divide\n",
      "  PPV = TP/(TP+FP)\n",
      "/home/docker/data/cch-iniciacion/ds-cch-iniciacion/deploy/packages/xgb_classifier/xgb_classifier/processing/scoring.py:146: RuntimeWarning: invalid value encountered in true_divide\n",
      "  FDR = FP/(TP+FP)\n"
     ]
    }
   ],
   "source": [
    "scores, cm = model_stats_plain(model=None)"
   ]
  },
  {
   "cell_type": "markdown",
   "id": "signal-perfume",
   "metadata": {},
   "source": [
    "## Display best params from GridSearch"
   ]
  },
  {
   "cell_type": "code",
   "execution_count": 1,
   "id": "dependent-concentrate",
   "metadata": {},
   "outputs": [],
   "source": [
    "from xgb_classifier.processing.data_management import load_params\n",
    "from xgb_classifier.config import config\n",
    "from xgb_classifier import __version__ as _version"
   ]
  },
  {
   "cell_type": "code",
   "execution_count": 2,
   "id": "divided-improvement",
   "metadata": {},
   "outputs": [
    {
     "name": "stdout",
     "output_type": "stream",
     "text": [
      "2021-03-25 14:47:50,026 — xgb_classifier.processing.data_management — INFO —load_params:57 — best parameters from grid search: {'max_depth': 8, 'min_child_weight': 4}\n"
     ]
    },
    {
     "data": {
      "text/plain": [
       "{'max_depth': 8, 'min_child_weight': 4}"
      ]
     },
     "execution_count": 2,
     "metadata": {},
     "output_type": "execute_result"
    }
   ],
   "source": [
    "load_params(file_name = f\"{config.BEST_PARAMS_SAVE_FILE}_{_version}.csv\")"
   ]
  }
 ],
 "metadata": {
  "kernelspec": {
   "display_name": "conda_mxnet_p36",
   "language": "python",
   "name": "conda_mxnet_p36"
  },
  "language_info": {
   "codemirror_mode": {
    "name": "ipython",
    "version": 3
   },
   "file_extension": ".py",
   "mimetype": "text/x-python",
   "name": "python",
   "nbconvert_exporter": "python",
   "pygments_lexer": "ipython3",
   "version": "3.6.13"
  }
 },
 "nbformat": 4,
 "nbformat_minor": 5
}
